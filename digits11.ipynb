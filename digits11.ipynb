{
  "nbformat": 4,
  "nbformat_minor": 0,
  "metadata": {
    "colab": {
      "name": "digits.ipynb",
      "provenance": [],
      "authorship_tag": "ABX9TyPWV28Ul75zDP2lerb6CcrS",
      "include_colab_link": true
    },
    "kernelspec": {
      "name": "python3",
      "display_name": "Python 3"
    },
    "language_info": {
      "name": "python"
    }
  },
  "cells": [
    {
      "cell_type": "markdown",
      "metadata": {
        "id": "view-in-github",
        "colab_type": "text"
      },
      "source": [
        "<a href=\"https://colab.research.google.com/github/urza3tar3/ai/blob/main/digits11.ipynb\" target=\"_parent\"><img src=\"https://colab.research.google.com/assets/colab-badge.svg\" alt=\"Open In Colab\"/></a>"
      ]
    },
    {
      "cell_type": "code",
      "execution_count": null,
      "metadata": {
        "id": "y0txCZUNzQC2"
      },
      "outputs": [],
      "source": [
        "import numpy as np\n",
        "import pandas as pd\n",
        "import matplotlib.pyplot as plt\n",
        "import seaborn as sns\n",
        "import os\n",
        "import sklearn \n",
        "\n",
        "from matplotlib.image import imread\n"
      ]
    },
    {
      "cell_type": "code",
      "source": [
        "import matplotlib as mpl\n",
        "from sklearn.feature_extraction.text import TfidfVectorizer\n",
        "from sklearn.decomposition import NMF"
      ],
      "metadata": {
        "id": "JDJcmSJ2BA5A"
      },
      "execution_count": null,
      "outputs": []
    },
    {
      "cell_type": "code",
      "source": [
        "df =pd.DataFrame(np.load(\"digits.npy\"))\n",
        "df.shape\n",
        "df.head()"
      ],
      "metadata": {
        "id": "7VmsdiR0RT3r",
        "colab": {
          "base_uri": "https://localhost:8080/",
          "height": 235
        },
        "outputId": "892bd8f4-dfba-48e7-cbba-02acf7569414"
      },
      "execution_count": null,
      "outputs": [
        {
          "output_type": "execute_result",
          "data": {
            "text/plain": [
              "   0    1    2    3    4    5    6    7    8    9    ...  94   95   96   97   \\\n",
              "0    0    0    0    0    0    0    0    0    0    0  ...    0    0    0    0   \n",
              "1    0    0    0    0    0    0    0    0    0    0  ...    0    0    0    0   \n",
              "2    0    0    0    0    0    0    0    0    0    0  ...    0    0    0    0   \n",
              "3    0    0    0    0    0    0    0    0    0    0  ...    0    0    0    0   \n",
              "4    0    0    0    0    0    0    0    0    0    0  ...    0    0    0    0   \n",
              "\n",
              "   98   99   100  101  102  103  \n",
              "0    0    0    0    0    0    0  \n",
              "1    0    0    0    0    0    0  \n",
              "2    0    0    0    0    0    0  \n",
              "3    0    0    0    0    0    0  \n",
              "4    0    0    0    0    0    0  \n",
              "\n",
              "[5 rows x 104 columns]"
            ],
            "text/html": [
              "\n",
              "  <div id=\"df-236e1418-2fa0-4a4d-93d2-50bd32c8f8c6\">\n",
              "    <div class=\"colab-df-container\">\n",
              "      <div>\n",
              "<style scoped>\n",
              "    .dataframe tbody tr th:only-of-type {\n",
              "        vertical-align: middle;\n",
              "    }\n",
              "\n",
              "    .dataframe tbody tr th {\n",
              "        vertical-align: top;\n",
              "    }\n",
              "\n",
              "    .dataframe thead th {\n",
              "        text-align: right;\n",
              "    }\n",
              "</style>\n",
              "<table border=\"1\" class=\"dataframe\">\n",
              "  <thead>\n",
              "    <tr style=\"text-align: right;\">\n",
              "      <th></th>\n",
              "      <th>0</th>\n",
              "      <th>1</th>\n",
              "      <th>2</th>\n",
              "      <th>3</th>\n",
              "      <th>4</th>\n",
              "      <th>5</th>\n",
              "      <th>6</th>\n",
              "      <th>7</th>\n",
              "      <th>8</th>\n",
              "      <th>9</th>\n",
              "      <th>...</th>\n",
              "      <th>94</th>\n",
              "      <th>95</th>\n",
              "      <th>96</th>\n",
              "      <th>97</th>\n",
              "      <th>98</th>\n",
              "      <th>99</th>\n",
              "      <th>100</th>\n",
              "      <th>101</th>\n",
              "      <th>102</th>\n",
              "      <th>103</th>\n",
              "    </tr>\n",
              "  </thead>\n",
              "  <tbody>\n",
              "    <tr>\n",
              "      <th>0</th>\n",
              "      <td>0</td>\n",
              "      <td>0</td>\n",
              "      <td>0</td>\n",
              "      <td>0</td>\n",
              "      <td>0</td>\n",
              "      <td>0</td>\n",
              "      <td>0</td>\n",
              "      <td>0</td>\n",
              "      <td>0</td>\n",
              "      <td>0</td>\n",
              "      <td>...</td>\n",
              "      <td>0</td>\n",
              "      <td>0</td>\n",
              "      <td>0</td>\n",
              "      <td>0</td>\n",
              "      <td>0</td>\n",
              "      <td>0</td>\n",
              "      <td>0</td>\n",
              "      <td>0</td>\n",
              "      <td>0</td>\n",
              "      <td>0</td>\n",
              "    </tr>\n",
              "    <tr>\n",
              "      <th>1</th>\n",
              "      <td>0</td>\n",
              "      <td>0</td>\n",
              "      <td>0</td>\n",
              "      <td>0</td>\n",
              "      <td>0</td>\n",
              "      <td>0</td>\n",
              "      <td>0</td>\n",
              "      <td>0</td>\n",
              "      <td>0</td>\n",
              "      <td>0</td>\n",
              "      <td>...</td>\n",
              "      <td>0</td>\n",
              "      <td>0</td>\n",
              "      <td>0</td>\n",
              "      <td>0</td>\n",
              "      <td>0</td>\n",
              "      <td>0</td>\n",
              "      <td>0</td>\n",
              "      <td>0</td>\n",
              "      <td>0</td>\n",
              "      <td>0</td>\n",
              "    </tr>\n",
              "    <tr>\n",
              "      <th>2</th>\n",
              "      <td>0</td>\n",
              "      <td>0</td>\n",
              "      <td>0</td>\n",
              "      <td>0</td>\n",
              "      <td>0</td>\n",
              "      <td>0</td>\n",
              "      <td>0</td>\n",
              "      <td>0</td>\n",
              "      <td>0</td>\n",
              "      <td>0</td>\n",
              "      <td>...</td>\n",
              "      <td>0</td>\n",
              "      <td>0</td>\n",
              "      <td>0</td>\n",
              "      <td>0</td>\n",
              "      <td>0</td>\n",
              "      <td>0</td>\n",
              "      <td>0</td>\n",
              "      <td>0</td>\n",
              "      <td>0</td>\n",
              "      <td>0</td>\n",
              "    </tr>\n",
              "    <tr>\n",
              "      <th>3</th>\n",
              "      <td>0</td>\n",
              "      <td>0</td>\n",
              "      <td>0</td>\n",
              "      <td>0</td>\n",
              "      <td>0</td>\n",
              "      <td>0</td>\n",
              "      <td>0</td>\n",
              "      <td>0</td>\n",
              "      <td>0</td>\n",
              "      <td>0</td>\n",
              "      <td>...</td>\n",
              "      <td>0</td>\n",
              "      <td>0</td>\n",
              "      <td>0</td>\n",
              "      <td>0</td>\n",
              "      <td>0</td>\n",
              "      <td>0</td>\n",
              "      <td>0</td>\n",
              "      <td>0</td>\n",
              "      <td>0</td>\n",
              "      <td>0</td>\n",
              "    </tr>\n",
              "    <tr>\n",
              "      <th>4</th>\n",
              "      <td>0</td>\n",
              "      <td>0</td>\n",
              "      <td>0</td>\n",
              "      <td>0</td>\n",
              "      <td>0</td>\n",
              "      <td>0</td>\n",
              "      <td>0</td>\n",
              "      <td>0</td>\n",
              "      <td>0</td>\n",
              "      <td>0</td>\n",
              "      <td>...</td>\n",
              "      <td>0</td>\n",
              "      <td>0</td>\n",
              "      <td>0</td>\n",
              "      <td>0</td>\n",
              "      <td>0</td>\n",
              "      <td>0</td>\n",
              "      <td>0</td>\n",
              "      <td>0</td>\n",
              "      <td>0</td>\n",
              "      <td>0</td>\n",
              "    </tr>\n",
              "  </tbody>\n",
              "</table>\n",
              "<p>5 rows × 104 columns</p>\n",
              "</div>\n",
              "      <button class=\"colab-df-convert\" onclick=\"convertToInteractive('df-236e1418-2fa0-4a4d-93d2-50bd32c8f8c6')\"\n",
              "              title=\"Convert this dataframe to an interactive table.\"\n",
              "              style=\"display:none;\">\n",
              "        \n",
              "  <svg xmlns=\"http://www.w3.org/2000/svg\" height=\"24px\"viewBox=\"0 0 24 24\"\n",
              "       width=\"24px\">\n",
              "    <path d=\"M0 0h24v24H0V0z\" fill=\"none\"/>\n",
              "    <path d=\"M18.56 5.44l.94 2.06.94-2.06 2.06-.94-2.06-.94-.94-2.06-.94 2.06-2.06.94zm-11 1L8.5 8.5l.94-2.06 2.06-.94-2.06-.94L8.5 2.5l-.94 2.06-2.06.94zm10 10l.94 2.06.94-2.06 2.06-.94-2.06-.94-.94-2.06-.94 2.06-2.06.94z\"/><path d=\"M17.41 7.96l-1.37-1.37c-.4-.4-.92-.59-1.43-.59-.52 0-1.04.2-1.43.59L10.3 9.45l-7.72 7.72c-.78.78-.78 2.05 0 2.83L4 21.41c.39.39.9.59 1.41.59.51 0 1.02-.2 1.41-.59l7.78-7.78 2.81-2.81c.8-.78.8-2.07 0-2.86zM5.41 20L4 18.59l7.72-7.72 1.47 1.35L5.41 20z\"/>\n",
              "  </svg>\n",
              "      </button>\n",
              "      \n",
              "  <style>\n",
              "    .colab-df-container {\n",
              "      display:flex;\n",
              "      flex-wrap:wrap;\n",
              "      gap: 12px;\n",
              "    }\n",
              "\n",
              "    .colab-df-convert {\n",
              "      background-color: #E8F0FE;\n",
              "      border: none;\n",
              "      border-radius: 50%;\n",
              "      cursor: pointer;\n",
              "      display: none;\n",
              "      fill: #1967D2;\n",
              "      height: 32px;\n",
              "      padding: 0 0 0 0;\n",
              "      width: 32px;\n",
              "    }\n",
              "\n",
              "    .colab-df-convert:hover {\n",
              "      background-color: #E2EBFA;\n",
              "      box-shadow: 0px 1px 2px rgba(60, 64, 67, 0.3), 0px 1px 3px 1px rgba(60, 64, 67, 0.15);\n",
              "      fill: #174EA6;\n",
              "    }\n",
              "\n",
              "    [theme=dark] .colab-df-convert {\n",
              "      background-color: #3B4455;\n",
              "      fill: #D2E3FC;\n",
              "    }\n",
              "\n",
              "    [theme=dark] .colab-df-convert:hover {\n",
              "      background-color: #434B5C;\n",
              "      box-shadow: 0px 1px 3px 1px rgba(0, 0, 0, 0.15);\n",
              "      filter: drop-shadow(0px 1px 2px rgba(0, 0, 0, 0.3));\n",
              "      fill: #FFFFFF;\n",
              "    }\n",
              "  </style>\n",
              "\n",
              "      <script>\n",
              "        const buttonEl =\n",
              "          document.querySelector('#df-236e1418-2fa0-4a4d-93d2-50bd32c8f8c6 button.colab-df-convert');\n",
              "        buttonEl.style.display =\n",
              "          google.colab.kernel.accessAllowed ? 'block' : 'none';\n",
              "\n",
              "        async function convertToInteractive(key) {\n",
              "          const element = document.querySelector('#df-236e1418-2fa0-4a4d-93d2-50bd32c8f8c6');\n",
              "          const dataTable =\n",
              "            await google.colab.kernel.invokeFunction('convertToInteractive',\n",
              "                                                     [key], {});\n",
              "          if (!dataTable) return;\n",
              "\n",
              "          const docLinkHtml = 'Like what you see? Visit the ' +\n",
              "            '<a target=\"_blank\" href=https://colab.research.google.com/notebooks/data_table.ipynb>data table notebook</a>'\n",
              "            + ' to learn more about interactive tables.';\n",
              "          element.innerHTML = '';\n",
              "          dataTable['output_type'] = 'display_data';\n",
              "          await google.colab.output.renderOutput(dataTable, element);\n",
              "          const docLink = document.createElement('div');\n",
              "          docLink.innerHTML = docLinkHtml;\n",
              "          element.appendChild(docLink);\n",
              "        }\n",
              "      </script>\n",
              "    </div>\n",
              "  </div>\n",
              "  "
            ]
          },
          "metadata": {},
          "execution_count": 84
        }
      ]
    },
    {
      "cell_type": "code",
      "source": [
        "\n",
        "for i in range(0,100):\n",
        "  some_digit = np.array(df.iloc[i])\n",
        "  some_digit_img = some_digit.reshape(13,8)\n",
        "  plt.imshow(some_digit_img , cmap=\"binary\")\n",
        "  plt.axis(\"off\")\n",
        "  plt.show()"
      ],
      "metadata": {
        "colab": {
          "base_uri": "https://localhost:8080/",
          "height": 1000
        },
        "id": "U8i9k0bjICuq",
        "outputId": "00ede4ab-138c-4f83-ed9f-aa4c2d3428b6"
      },
      "execution_count": null,
      "outputs": [
        {
          "output_type": "display_data",
          "data": {
            "text/plain": [
              "<Figure size 432x288 with 1 Axes>"
            ],
            "image/png": "[encoded data removed]"
          },
          "metadata": {
            "needs_background": "light"
          }
        },
        {
          "output_type": "display_data",
          "data": {
            "text/plain": [
              "<Figure size 432x288 with 1 Axes>"
            ],
            "image/png": "[encoded data removed]"
          },
          "metadata": {
            "needs_background": "light"
          }
        },
        {
          "output_type": "display_data",
          "data": {
            "text/plain": [
              "<Figure size 432x288 with 1 Axes>"
            ],
            "image/png": "[encoded data removed]"
          },
          "metadata": {
            "needs_background": "light"
          }
        },
        {
          "output_type": "display_data",
          "data": {
            "text/plain": [
              "<Figure size 432x288 with 1 Axes>"
            ],
            "image/png": "[encoded data removed]"
          },
          "metadata": {
            "needs_background": "light"
          }
        },
        {
          "output_type": "display_data",
          "data": {
            "text/plain": [
              "<Figure size 432x288 with 1 Axes>"
            ],
            "image/png": "[encoded data removed]"
          },
          "metadata": {
            "needs_background": "light"
          }
        },
        {
          "output_type": "display_data",
          "data": {
            "text/plain": [
              "<Figure size 432x288 with 1 Axes>"
            ],
            "image/png": "[encoded data removed]"
          },
          "metadata": {
            "needs_background": "light"
          }
        },
        {
          "output_type": "display_data",
          "data": {
            "text/plain": [
              "<Figure size 432x288 with 1 Axes>"
            ],
            "image/png": "[encoded data removed]"
          },
          "metadata": {
            "needs_background": "light"
          }
        },
        {
          "output_type": "display_data",
          "data": {
            "text/plain": [
              "<Figure size 432x288 with 1 Axes>"
            ],
            "image/png": "[encoded data removed]"
          },
          "metadata": {
            "needs_background": "light"
          }
        },
        {
          "output_type": "display_data",
          "data": {
            "text/plain": [
              "<Figure size 432x288 with 1 Axes>"
            ],
            "image/png": "[encoded data removed]"
          },
          "metadata": {
            "needs_background": "light"
          }
        },
        {
          "output_type": "display_data",
          "data": {
            "text/plain": [
              "<Figure size 432x288 with 1 Axes>"
            ],
            "image/png": "[encoded data removed]"
          },
          "metadata": {
            "needs_background": "light"
          }
        },
        {
          "output_type": "display_data",
          "data": {
            "text/plain": [
              "<Figure size 432x288 with 1 Axes>"
            ],
            "image/png": "[encoded data removed]"
          },
          "metadata": {
            "needs_background": "light"
          }
        },
        {
          "output_type": "display_data",
          "data": {
            "text/plain": [
              "<Figure size 432x288 with 1 Axes>"
            ],
            "image/png": "[encoded data removed]"
          },
          "metadata": {
            "needs_background": "light"
          }
        },
        {
          "output_type": "display_data",
          "data": {
            "text/plain": [
              "<Figure size 432x288 with 1 Axes>"
            ],
            "image/png": "[encoded data removed]"
          },
          "metadata": {
            "needs_background": "light"
          }
        },
        {
          "output_type": "display_data",
          "data": {
            "text/plain": [
              "<Figure size 432x288 with 1 Axes>"
            ],
            "image/png": "[encoded data removed]"
          },
          "metadata": {
            "needs_background": "light"
          }
        },
        {
          "output_type": "display_data",
          "data": {
            "text/plain": [
              "<Figure size 432x288 with 1 Axes>"
            ],
            "image/png": "[encoded data removed]"
          },
          "metadata": {
            "needs_background": "light"
          }
        },
        {
          "output_type": "display_data",
          "data": {
            "text/plain": [
              "<Figure size 432x288 with 1 Axes>"
            ],
            "image/png": "[encoded data removed]"
          },
          "metadata": {
            "needs_background": "light"
          }
        },
        {
          "output_type": "display_data",
          "data": {
            "text/plain": [
              "<Figure size 432x288 with 1 Axes>"
            ],
            "image/png": "[encoded data removed]"
          },
          "metadata": {
            "needs_background": "light"
          }
        },
        {
          "output_type": "display_data",
          "data": {
            "text/plain": [
              "<Figure size 432x288 with 1 Axes>"
            ],
            "image/png": "[encoded data removed]"
          },
          "metadata": {
            "needs_background": "light"
          }
        },
        {
          "output_type": "display_data",
          "data": {
            "text/plain": [
              "<Figure size 432x288 with 1 Axes>"
            ],
            "image/png": "[encoded data removed]"
          },
          "metadata": {
            "needs_background": "light"
          }
        },
        {
          "output_type": "display_data",
          "data": {
            "text/plain": [
              "<Figure size 432x288 with 1 Axes>"
            ],
            "image/png": "[encoded data removed]"
          },
          "metadata": {
            "needs_background": "light"
          }
        },
        {
          "output_type": "display_data",
          "data": {
            "text/plain": [
              "<Figure size 432x288 with 1 Axes>"
            ],
            "image/png": "[encoded data removed]"
          },
          "metadata": {
            "needs_background": "light"
          }
        },
        {
          "output_type": "display_data",
          "data": {
            "text/plain": [
              "<Figure size 432x288 with 1 Axes>"
            ],
            "image/png": "[encoded data removed]"
          },
          "metadata": {
            "needs_background": "light"
          }
        },
        {
          "output_type": "display_data",
          "data": {
            "text/plain": [
              "<Figure size 432x288 with 1 Axes>"
            ],
            "image/png": "[encoded data removed]"
          },
          "metadata": {
            "needs_background": "light"
          }
        },
        {
          "output_type": "display_data",
          "data": {
            "text/plain": [
              "<Figure size 432x288 with 1 Axes>"
            ],
            "image/png": "[encoded data removed]"
          },
          "metadata": {
            "needs_background": "light"
          }
        },
        {
          "output_type": "display_data",
          "data": {
            "text/plain": [
              "<Figure size 432x288 with 1 Axes>"
            ],
            "image/png": "[encoded data removed]"
          },
          "metadata": {
            "needs_background": "light"
          }
        },
        {
          "output_type": "display_data",
          "data": {
            "text/plain": [
              "<Figure size 432x288 with 1 Axes>"
            ],
            "image/png": "[encoded data removed]"
          },
          "metadata": {
            "needs_background": "light"
          }
        },
        {
          "output_type": "display_data",
          "data": {
            "text/plain": [
              "<Figure size 432x288 with 1 Axes>"
            ],
            "image/png": "[encoded data removed]"
          },
          "metadata": {
            "needs_background": "light"
          }
        },
        {
          "output_type": "display_data",
          "data": {
            "text/plain": [
              "<Figure size 432x288 with 1 Axes>"
            ],
            "image/png": "[encoded data removed]"
          },
          "metadata": {
            "needs_background": "light"
          }
        },
        {
          "output_type": "display_data",
          "data": {
            "text/plain": [
              "<Figure size 432x288 with 1 Axes>"
            ],
            "image/png": "[encoded data removed]"
          },
          "metadata": {
            "needs_background": "light"
          }
        },
        {
          "output_type": "display_data",
          "data": {
            "text/plain": [
              "<Figure size 432x288 with 1 Axes>"
            ],
            "image/png": "[encoded data removed]"
          },
          "metadata": {
            "needs_background": "light"
          }
        },
        {
          "output_type": "display_data",
          "data": {
            "text/plain": [
              "<Figure size 432x288 with 1 Axes>"
            ],
            "image/png": "[encoded data removed]"
          },
          "metadata": {
            "needs_background": "light"
          }
        },
        {
          "output_type": "display_data",
          "data": {
            "text/plain": [
              "<Figure size 432x288 with 1 Axes>"
            ],
            "image/png": "[encoded data removed]"
          },
          "metadata": {
            "needs_background": "light"
          }
        },
        {
          "output_type": "display_data",
          "data": {
            "text/plain": [
              "<Figure size 432x288 with 1 Axes>"
            ],
            "image/png": "[encoded data removed]"
          },
          "metadata": {
            "needs_background": "light"
          }
        },
        {
          "output_type": "display_data",
          "data": {
            "text/plain": [
              "<Figure size 432x288 with 1 Axes>"
            ],
            "image/png": "[encoded data removed]"
          },
          "metadata": {
            "needs_background": "light"
          }
        },
        {
          "output_type": "display_data",
          "data": {
            "text/plain": [
              "<Figure size 432x288 with 1 Axes>"
            ],
            "image/png": "[encoded data removed]"
          },
          "metadata": {
            "needs_background": "light"
          }
        },
        {
          "output_type": "display_data",
          "data": {
            "text/plain": [
              "<Figure size 432x288 with 1 Axes>"
            ],
            "image/png": "[encoded data removed]"
          },
          "metadata": {
            "needs_background": "light"
          }
        },
        {
          "output_type": "display_data",
          "data": {
            "text/plain": [
              "<Figure size 432x288 with 1 Axes>"
            ],
            "image/png": "[encoded data removed]"
          },
          "metadata": {
            "needs_background": "light"
          }
        },
        {
          "output_type": "display_data",
          "data": {
            "text/plain": [
              "<Figure size 432x288 with 1 Axes>"
            ],
            "image/png": "[encoded data removed]"
          },
          "metadata": {
            "needs_background": "light"
          }
        },
        {
          "output_type": "display_data",
          "data": {
            "text/plain": [
              "<Figure size 432x288 with 1 Axes>"
            ],
            "image/png": "[encoded data removed]"
          },
          "metadata": {
            "needs_background": "light"
          }
        },
        {
          "output_type": "display_data",
          "data": {
            "text/plain": [
              "<Figure size 432x288 with 1 Axes>"
            ],
            "image/png": "[encoded data removed]"
          },
          "metadata": {
            "needs_background": "light"
          }
        },
        {
          "output_type": "display_data",
          "data": {
            "text/plain": [
              "<Figure size 432x288 with 1 Axes>"
            ],
            "image/png": "[encoded data removed]"
          },
          "metadata": {
            "needs_background": "light"
          }
        },
        {
          "output_type": "display_data",
          "data": {
            "text/plain": [
              "<Figure size 432x288 with 1 Axes>"
            ],
            "image/png": "[encoded data removed]"
          },
          "metadata": {
            "needs_background": "light"
          }
        },
        {
          "output_type": "display_data",
          "data": {
            "text/plain": [
              "<Figure size 432x288 with 1 Axes>"
            ],
            "image/png": "[encoded data removed]"
          },
          "metadata": {
            "needs_background": "light"
          }
        },
        {
          "output_type": "display_data",
          "data": {
            "text/plain": [
              "<Figure size 432x288 with 1 Axes>"
            ],
            "image/png": "[encoded data removed]"
          },
          "metadata": {
            "needs_background": "light"
          }
        },
        {
          "output_type": "display_data",
          "data": {
            "text/plain": [
              "<Figure size 432x288 with 1 Axes>"
            ],
            "image/png": "[encoded data removed]"
          },
          "metadata": {
            "needs_background": "light"
          }
        },
        {
          "output_type": "display_data",
          "data": {
            "text/plain": [
              "<Figure size 432x288 with 1 Axes>"
            ],
            "image/png": "[encoded data removed]"
          },
          "metadata": {
            "needs_background": "light"
          }
        },
        {
          "output_type": "display_data",
          "data": {
            "text/plain": [
              "<Figure size 432x288 with 1 Axes>"
            ],
            "image/png": "[encoded data removed]"
          },
          "metadata": {
            "needs_background": "light"
          }
        },
        {
          "output_type": "display_data",
          "data": {
            "text/plain": [
              "<Figure size 432x288 with 1 Axes>"
            ],
            "image/png": "[encoded data removed]"
          },
          "metadata": {
            "needs_background": "light"
          }
        },
        {
          "output_type": "display_data",
          "data": {
            "text/plain": [
              "<Figure size 432x288 with 1 Axes>"
            ],
            "image/png": "[encoded data removed]"
          },
          "metadata": {
            "needs_background": "light"
          }
        },
        {
          "output_type": "display_data",
          "data": {
            "text/plain": [
              "<Figure size 432x288 with 1 Axes>"
            ],
            "image/png": "[encoded data removed]"
          },
          "metadata": {
            "needs_background": "light"
          }
        },
        {
          "output_type": "display_data",
          "data": {
            "text/plain": [
              "<Figure size 432x288 with 1 Axes>"
            ],
            "image/png": "[encoded data removed]"
          },
          "metadata": {
            "needs_background": "light"
          }
        },
        {
          "output_type": "display_data",
          "data": {
            "text/plain": [
              "<Figure size 432x288 with 1 Axes>"
            ],
            "image/png": "[encoded data removed]"
          },
          "metadata": {
            "needs_background": "light"
          }
        },
        {
          "output_type": "display_data",
          "data": {
            "text/plain": [
              "<Figure size 432x288 with 1 Axes>"
            ],
            "image/png": "[encoded data removed]"
          },
          "metadata": {
            "needs_background": "light"
          }
        },
        {
          "output_type": "display_data",
          "data": {
            "text/plain": [
              "<Figure size 432x288 with 1 Axes>"
            ],
            "image/png": "[encoded data removed]"
          },
          "metadata": {
            "needs_background": "light"
          }
        },
        {
          "output_type": "display_data",
          "data": {
            "text/plain": [
              "<Figure size 432x288 with 1 Axes>"
            ],
            "image/png": "[encoded data removed]"
          },
          "metadata": {
            "needs_background": "light"
          }
        },
        {
          "output_type": "display_data",
          "data": {
            "text/plain": [
              "<Figure size 432x288 with 1 Axes>"
            ],
            "image/png": "[encoded data removed]"
          },
          "metadata": {
            "needs_background": "light"
          }
        },
        {
          "output_type": "display_data",
          "data": {
            "text/plain": [
              "<Figure size 432x288 with 1 Axes>"
            ],
            "image/png": "[encoded data removed]"
          },
          "metadata": {
            "needs_background": "light"
          }
        },
        {
          "output_type": "display_data",
          "data": {
            "text/plain": [
              "<Figure size 432x288 with 1 Axes>"
            ],
            "image/png": "[encoded data removed]"
          },
          "metadata": {
            "needs_background": "light"
          }
        },
        {
          "output_type": "display_data",
          "data": {
            "text/plain": [
              "<Figure size 432x288 with 1 Axes>"
            ],
            "image/png": "[encoded data removed]"
          },
          "metadata": {
            "needs_background": "light"
          }
        },
        {
          "output_type": "display_data",
          "data": {
            "text/plain": [
              "<Figure size 432x288 with 1 Axes>"
            ],
            "image/png": "[encoded data removed]"
          },
          "metadata": {
            "needs_background": "light"
          }
        },
        {
          "output_type": "display_data",
          "data": {
            "text/plain": [
              "<Figure size 432x288 with 1 Axes>"
            ],
            "image/png": "[encoded data removed]"
          },
          "metadata": {
            "needs_background": "light"
          }
        },
        {
          "output_type": "display_data",
          "data": {
            "text/plain": [
              "<Figure size 432x288 with 1 Axes>"
            ],
            "image/png": "[encoded data removed]"
          },
          "metadata": {
            "needs_background": "light"
          }
        },
        {
          "output_type": "display_data",
          "data": {
            "text/plain": [
              "<Figure size 432x288 with 1 Axes>"
            ],
            "image/png": "[encoded data removed]"
          },
          "metadata": {
            "needs_background": "light"
          }
        },
        {
          "output_type": "display_data",
          "data": {
            "text/plain": [
              "<Figure size 432x288 with 1 Axes>"
            ],
            "image/png": "[encoded data removed]"
          },
          "metadata": {
            "needs_background": "light"
          }
        },
        {
          "output_type": "display_data",
          "data": {
            "text/plain": [
              "<Figure size 432x288 with 1 Axes>"
            ],
            "image/png": "[encoded data removed]"
          },
          "metadata": {
            "needs_background": "light"
          }
        },
        {
          "output_type": "display_data",
          "data": {
            "text/plain": [
              "<Figure size 432x288 with 1 Axes>"
            ],
            "image/png": "[encoded data removed]"
          },
          "metadata": {
            "needs_background": "light"
          }
        },
        {
          "output_type": "display_data",
          "data": {
            "text/plain": [
              "<Figure size 432x288 with 1 Axes>"
            ],
            "image/png": "[encoded data removed]"
          },
          "metadata": {
            "needs_background": "light"
          }
        },
        {
          "output_type": "display_data",
          "data": {
            "text/plain": [
              "<Figure size 432x288 with 1 Axes>"
            ],
            "image/png": "[encoded data removed]"
          },
          "metadata": {
            "needs_background": "light"
          }
        },
        {
          "output_type": "display_data",
          "data": {
            "text/plain": [
              "<Figure size 432x288 with 1 Axes>"
            ],
            "image/png": "[encoded data removed]"
          },
          "metadata": {
            "needs_background": "light"
          }
        },
        {
          "output_type": "display_data",
          "data": {
            "text/plain": [
              "<Figure size 432x288 with 1 Axes>"
            ],
            "image/png": "[encoded data removed]"
          },
          "metadata": {
            "needs_background": "light"
          }
        },
        {
          "output_type": "display_data",
          "data": {
            "text/plain": [
              "<Figure size 432x288 with 1 Axes>"
            ],
            "image/png": "[encoded data removed]"
          },
          "metadata": {
            "needs_background": "light"
          }
        },
        {
          "output_type": "display_data",
          "data": {
            "text/plain": [
              "<Figure size 432x288 with 1 Axes>"
            ],
            "image/png": "[encoded data removed]"
          },
          "metadata": {
            "needs_background": "light"
          }
        },
        {
          "output_type": "display_data",
          "data": {
            "text/plain": [
              "<Figure size 432x288 with 1 Axes>"
            ],
            "image/png": "[encoded data removed]"
          },
          "metadata": {
            "needs_background": "light"
          }
        },
        {
          "output_type": "display_data",
          "data": {
            "text/plain": [
              "<Figure size 432x288 with 1 Axes>"
            ],
            "image/png": "[encoded data removed]"
          },
          "metadata": {
            "needs_background": "light"
          }
        },
        {
          "output_type": "display_data",
          "data": {
            "text/plain": [
              "<Figure size 432x288 with 1 Axes>"
            ],
            "image/png": "[encoded data removed]"
          },
          "metadata": {
            "needs_background": "light"
          }
        },
        {
          "output_type": "display_data",
          "data": {
            "text/plain": [
              "<Figure size 432x288 with 1 Axes>"
            ],
            "image/png": "[encoded data removed]"
          },
          "metadata": {
            "needs_background": "light"
          }
        },
        {
          "output_type": "display_data",
          "data": {
            "text/plain": [
              "<Figure size 432x288 with 1 Axes>"
            ],
            "image/png": "[encoded data removed]"
          },
          "metadata": {
            "needs_background": "light"
          }
        },
        {
          "output_type": "display_data",
          "data": {
            "text/plain": [
              "<Figure size 432x288 with 1 Axes>"
            ],
            "image/png": "[encoded data removed]"
          },
          "metadata": {
            "needs_background": "light"
          }
        },
        {
          "output_type": "display_data",
          "data": {
            "text/plain": [
              "<Figure size 432x288 with 1 Axes>"
            ],
            "image/png": "[encoded data removed]"
          },
          "metadata": {
            "needs_background": "light"
          }
        },
        {
          "output_type": "display_data",
          "data": {
            "text/plain": [
              "<Figure size 432x288 with 1 Axes>"
            ],
            "image/png": "[encoded data removed]"
          },
          "metadata": {
            "needs_background": "light"
          }
        },
        {
          "output_type": "display_data",
          "data": {
            "text/plain": [
              "<Figure size 432x288 with 1 Axes>"
            ],
            "image/png": "[encoded data removed]"
          },
          "metadata": {
            "needs_background": "light"
          }
        },
        {
          "output_type": "display_data",
          "data": {
            "text/plain": [
              "<Figure size 432x288 with 1 Axes>"
            ],
            "image/png": "[encoded data removed]"
          },
          "metadata": {
            "needs_background": "light"
          }
        },
        {
          "output_type": "display_data",
          "data": {
            "text/plain": [
              "<Figure size 432x288 with 1 Axes>"
            ],
            "image/png": "[encoded data removed]"
          },
          "metadata": {
            "needs_background": "light"
          }
        },
        {
          "output_type": "display_data",
          "data": {
            "text/plain": [
              "<Figure size 432x288 with 1 Axes>"
            ],
            "image/png": "[encoded data removed]"
          },
          "metadata": {
            "needs_background": "light"
          }
        },
        {
          "output_type": "display_data",
          "data": {
            "text/plain": [
              "<Figure size 432x288 with 1 Axes>"
            ],
            "image/png": "[encoded data removed]"
          },
          "metadata": {
            "needs_background": "light"
          }
        },
        {
          "output_type": "display_data",
          "data": {
            "text/plain": [
              "<Figure size 432x288 with 1 Axes>"
            ],
            "image/png": "[encoded data removed]"
          },
          "metadata": {
            "needs_background": "light"
          }
        },
        {
          "output_type": "display_data",
          "data": {
            "text/plain": [
              "<Figure size 432x288 with 1 Axes>"
            ],
            "image/png": "[encoded data removed]"
          },
          "metadata": {
            "needs_background": "light"
          }
        },
        {
          "output_type": "display_data",
          "data": {
            "text/plain": [
              "<Figure size 432x288 with 1 Axes>"
            ],
            "image/png": "[encoded data removed]"
          },
          "metadata": {
            "needs_background": "light"
          }
        },
        {
          "output_type": "display_data",
          "data": {
            "text/plain": [
              "<Figure size 432x288 with 1 Axes>"
            ],
            "image/png": "[encoded data removed]"
          },
          "metadata": {
            "needs_background": "light"
          }
        },
        {
          "output_type": "display_data",
          "data": {
            "text/plain": [
              "<Figure size 432x288 with 1 Axes>"
            ],
            "image/png": "[encoded data removed]"
          },
          "metadata": {
            "needs_background": "light"
          }
        },
        {
          "output_type": "display_data",
          "data": {
            "text/plain": [
              "<Figure size 432x288 with 1 Axes>"
            ],
            "image/png": "[encoded data removed]"
          },
          "metadata": {
            "needs_background": "light"
          }
        },
        {
          "output_type": "display_data",
          "data": {
            "text/plain": [
              "<Figure size 432x288 with 1 Axes>"
            ],
            "image/png": "[encoded data removed]"
          },
          "metadata": {
            "needs_background": "light"
          }
        },
        {
          "output_type": "display_data",
          "data": {
            "text/plain": [
              "<Figure size 432x288 with 1 Axes>"
            ],
            "image/png": "[encoded data removed]"
          },
          "metadata": {
            "needs_background": "light"
          }
        },
        {
          "output_type": "display_data",
          "data": {
            "text/plain": [
              "<Figure size 432x288 with 1 Axes>"
            ],
            "image/png": "[encoded data removed]"
          },
          "metadata": {
            "needs_background": "light"
          }
        },
        {
          "output_type": "display_data",
          "data": {
            "text/plain": [
              "<Figure size 432x288 with 1 Axes>"
            ],
            "image/png": "[encoded data removed]"
          },
          "metadata": {
            "needs_background": "light"
          }
        },
        {
          "output_type": "display_data",
          "data": {
            "text/plain": [
              "<Figure size 432x288 with 1 Axes>"
            ],
            "image/png": "[encoded data removed]"
          },
          "metadata": {
            "needs_background": "light"
          }
        },
        {
          "output_type": "display_data",
          "data": {
            "text/plain": [
              "<Figure size 432x288 with 1 Axes>"
            ],
            "image/png": "[encoded data removed]"
          },
          "metadata": {
            "needs_background": "light"
          }
        },
        {
          "output_type": "display_data",
          "data": {
            "text/plain": [
              "<Figure size 432x288 with 1 Axes>"
            ],
            "image/png": "[encoded data removed]"
          },
          "metadata": {
            "needs_background": "light"
          }
        },
        {
          "output_type": "display_data",
          "data": {
            "text/plain": [
              "<Figure size 432x288 with 1 Axes>"
            ],
            "image/png": "[encoded data removed]"
          },
          "metadata": {
            "needs_background": "light"
          }
        },
        {
          "output_type": "display_data",
          "data": {
            "text/plain": [
              "<Figure size 432x288 with 1 Axes>"
            ],
            "image/png": "[encoded data removed]"
          },
          "metadata": {
            "needs_background": "light"
          }
        }
      ]
    },
    {
      "cell_type": "code",
      "source": [
        "model = NMF(n_components=10, random_state=5)\n",
        " \n",
        "# Fit the model to TF-IDF\n",
        "model.fit(df)\n",
        " \n",
        "# Transform the TF-IDF: nmf_features\n",
        "nmf_features = model.transform(df)\n",
        "nmf_features2= pd.DataFrame(nmf_features)"
      ],
      "metadata": {
        "colab": {
          "base_uri": "https://localhost:8080/"
        },
        "id": "z0UtmJMc0Q8n",
        "outputId": "bddab3e0-2e86-4634-b45d-9549d7229a3d"
      },
      "execution_count": null,
      "outputs": [
        {
          "output_type": "stream",
          "name": "stderr",
          "text": [
            "/usr/local/lib/python3.7/dist-packages/sklearn/decomposition/_nmf.py:294: FutureWarning: The 'init' value, when 'init=None' and n_components is less than n_samples and n_features, will be changed from 'nndsvd' to 'nndsvda' in 1.1 (renaming of 0.26).\n",
            "  FutureWarning,\n"
          ]
        }
      ]
    },
    {
      "cell_type": "code",
      "source": [
        "for i in range(0,100):\n",
        "  some_digit = np.array(nmf_features2.iloc[i])\n",
        "  some_digit_img = some_digit.reshape((8,13))\n",
        "  plt.imshow(some_digit_img , cmap=\"binary\")\n",
        "  plt.axis(\"off\")\n",
        "  plt.show()\n",
        "  "
      ],
      "metadata": {
        "colab": {
          "base_uri": "https://localhost:8080/",
          "height": 235
        },
        "id": "5WkEucUqfuPL",
        "outputId": "66fd0505-84dd-4938-cec1-ca7903ded9f5"
      },
      "execution_count": null,
      "outputs": [
        {
          "output_type": "error",
          "ename": "ValueError",
          "evalue": "ignored",
          "traceback": [
            "\u001b[0;31m---------------------------------------------------------------------------\u001b[0m",
            "\u001b[0;31mValueError\u001b[0m                                Traceback (most recent call last)",
            "\u001b[0;32m<ipython-input-119-1e9fd5a848c0>\u001b[0m in \u001b[0;36m<module>\u001b[0;34m\u001b[0m\n\u001b[1;32m      1\u001b[0m \u001b[0;32mfor\u001b[0m \u001b[0mi\u001b[0m \u001b[0;32min\u001b[0m \u001b[0mrange\u001b[0m\u001b[0;34m(\u001b[0m\u001b[0;36m0\u001b[0m\u001b[0;34m,\u001b[0m\u001b[0;36m100\u001b[0m\u001b[0;34m)\u001b[0m\u001b[0;34m:\u001b[0m\u001b[0;34m\u001b[0m\u001b[0;34m\u001b[0m\u001b[0m\n\u001b[1;32m      2\u001b[0m   \u001b[0msome_digit\u001b[0m \u001b[0;34m=\u001b[0m \u001b[0mnp\u001b[0m\u001b[0;34m.\u001b[0m\u001b[0marray\u001b[0m\u001b[0;34m(\u001b[0m\u001b[0mnmf_features2\u001b[0m\u001b[0;34m.\u001b[0m\u001b[0miloc\u001b[0m\u001b[0;34m[\u001b[0m\u001b[0mi\u001b[0m\u001b[0;34m]\u001b[0m\u001b[0;34m)\u001b[0m\u001b[0;34m\u001b[0m\u001b[0;34m\u001b[0m\u001b[0m\n\u001b[0;32m----> 3\u001b[0;31m   \u001b[0msome_digit_img\u001b[0m \u001b[0;34m=\u001b[0m \u001b[0msome_digit\u001b[0m\u001b[0;34m.\u001b[0m\u001b[0mreshape\u001b[0m\u001b[0;34m(\u001b[0m\u001b[0;34m(\u001b[0m\u001b[0;36m8\u001b[0m\u001b[0;34m,\u001b[0m\u001b[0;36m13\u001b[0m\u001b[0;34m)\u001b[0m\u001b[0;34m)\u001b[0m\u001b[0;34m\u001b[0m\u001b[0;34m\u001b[0m\u001b[0m\n\u001b[0m\u001b[1;32m      4\u001b[0m   \u001b[0mplt\u001b[0m\u001b[0;34m.\u001b[0m\u001b[0mimshow\u001b[0m\u001b[0;34m(\u001b[0m\u001b[0msome_digit_img\u001b[0m \u001b[0;34m,\u001b[0m \u001b[0mcmap\u001b[0m\u001b[0;34m=\u001b[0m\u001b[0;34m\"binary\"\u001b[0m\u001b[0;34m)\u001b[0m\u001b[0;34m\u001b[0m\u001b[0;34m\u001b[0m\u001b[0m\n\u001b[1;32m      5\u001b[0m   \u001b[0mplt\u001b[0m\u001b[0;34m.\u001b[0m\u001b[0maxis\u001b[0m\u001b[0;34m(\u001b[0m\u001b[0;34m\"off\"\u001b[0m\u001b[0;34m)\u001b[0m\u001b[0;34m\u001b[0m\u001b[0;34m\u001b[0m\u001b[0m\n",
            "\u001b[0;31mValueError\u001b[0m: cannot reshape array of size 10 into shape (8,13)"
          ]
        }
      ]
    },
    {
      "cell_type": "code",
      "source": [
        "df.shape"
      ],
      "metadata": {
        "colab": {
          "base_uri": "https://localhost:8080/"
        },
        "id": "L8tUa-PtwmOA",
        "outputId": "ee8ea5cc-902e-43b7-9e3b-3f48a079e9d3"
      },
      "execution_count": null,
      "outputs": [
        {
          "output_type": "execute_result",
          "data": {
            "text/plain": [
              "(100, 104)"
            ]
          },
          "metadata": {},
          "execution_count": 120
        }
      ]
    },
    {
      "cell_type": "code",
      "source": [
        "nmf_features.shape"
      ],
      "metadata": {
        "colab": {
          "base_uri": "https://localhost:8080/"
        },
        "id": "VhVsGa7fdTh6",
        "outputId": "d39897b2-f84f-4c02-809c-95d67964f66d"
      },
      "execution_count": null,
      "outputs": [
        {
          "output_type": "execute_result",
          "data": {
            "text/plain": [
              "(100, 10)"
            ]
          },
          "metadata": {},
          "execution_count": 123
        }
      ]
    },
    {
      "cell_type": "code",
      "source": [
        "model.components_.shape"
      ],
      "metadata": {
        "colab": {
          "base_uri": "https://localhost:8080/"
        },
        "id": "x2V95J25wtDy",
        "outputId": "c204d58c-acad-45ec-c551-bc7bfe6253e2"
      },
      "execution_count": null,
      "outputs": [
        {
          "output_type": "execute_result",
          "data": {
            "text/plain": [
              "(10, 104)"
            ]
          },
          "metadata": {},
          "execution_count": 124
        }
      ]
    },
    {
      "cell_type": "code",
      "source": [
        "components_df = pd.DataFrame(model.components_, columns=vect.get_feature_names())\n",
        "components_df"
      ],
      "metadata": {
        "colab": {
          "base_uri": "https://localhost:8080/",
          "height": 383
        },
        "id": "xCSixqhyxaQG",
        "outputId": "93d791bc-4521-44d6-c441-df0922621bd7"
      },
      "execution_count": null,
      "outputs": [
        {
          "output_type": "stream",
          "name": "stderr",
          "text": [
            "/usr/local/lib/python3.7/dist-packages/sklearn/utils/deprecation.py:87: FutureWarning: Function get_feature_names is deprecated; get_feature_names is deprecated in 1.0 and will be removed in 1.2. Please use get_feature_names_out instead.\n",
            "  warnings.warn(msg, category=FutureWarning)\n"
          ]
        },
        {
          "output_type": "error",
          "ename": "NotFittedError",
          "evalue": "ignored",
          "traceback": [
            "\u001b[0;31m---------------------------------------------------------------------------\u001b[0m",
            "\u001b[0;31mNotFittedError\u001b[0m                            Traceback (most recent call last)",
            "\u001b[0;32m<ipython-input-125-ee9dd3ffe8b8>\u001b[0m in \u001b[0;36m<module>\u001b[0;34m\u001b[0m\n\u001b[0;32m----> 1\u001b[0;31m \u001b[0mcomponents_df\u001b[0m \u001b[0;34m=\u001b[0m \u001b[0mpd\u001b[0m\u001b[0;34m.\u001b[0m\u001b[0mDataFrame\u001b[0m\u001b[0;34m(\u001b[0m\u001b[0mmodel\u001b[0m\u001b[0;34m.\u001b[0m\u001b[0mcomponents_\u001b[0m\u001b[0;34m,\u001b[0m \u001b[0mcolumns\u001b[0m\u001b[0;34m=\u001b[0m\u001b[0mvect\u001b[0m\u001b[0;34m.\u001b[0m\u001b[0mget_feature_names\u001b[0m\u001b[0;34m(\u001b[0m\u001b[0;34m)\u001b[0m\u001b[0;34m)\u001b[0m\u001b[0;34m\u001b[0m\u001b[0;34m\u001b[0m\u001b[0m\n\u001b[0m\u001b[1;32m      2\u001b[0m \u001b[0mcomponents_df\u001b[0m\u001b[0;34m\u001b[0m\u001b[0;34m\u001b[0m\u001b[0m\n",
            "\u001b[0;32m/usr/local/lib/python3.7/dist-packages/sklearn/utils/deprecation.py\u001b[0m in \u001b[0;36mwrapped\u001b[0;34m(*args, **kwargs)\u001b[0m\n\u001b[1;32m     86\u001b[0m         \u001b[0;32mdef\u001b[0m \u001b[0mwrapped\u001b[0m\u001b[0;34m(\u001b[0m\u001b[0;34m*\u001b[0m\u001b[0margs\u001b[0m\u001b[0;34m,\u001b[0m \u001b[0;34m**\u001b[0m\u001b[0mkwargs\u001b[0m\u001b[0;34m)\u001b[0m\u001b[0;34m:\u001b[0m\u001b[0;34m\u001b[0m\u001b[0;34m\u001b[0m\u001b[0m\n\u001b[1;32m     87\u001b[0m             \u001b[0mwarnings\u001b[0m\u001b[0;34m.\u001b[0m\u001b[0mwarn\u001b[0m\u001b[0;34m(\u001b[0m\u001b[0mmsg\u001b[0m\u001b[0;34m,\u001b[0m \u001b[0mcategory\u001b[0m\u001b[0;34m=\u001b[0m\u001b[0mFutureWarning\u001b[0m\u001b[0;34m)\u001b[0m\u001b[0;34m\u001b[0m\u001b[0;34m\u001b[0m\u001b[0m\n\u001b[0;32m---> 88\u001b[0;31m             \u001b[0;32mreturn\u001b[0m \u001b[0mfun\u001b[0m\u001b[0;34m(\u001b[0m\u001b[0;34m*\u001b[0m\u001b[0margs\u001b[0m\u001b[0;34m,\u001b[0m \u001b[0;34m**\u001b[0m\u001b[0mkwargs\u001b[0m\u001b[0;34m)\u001b[0m\u001b[0;34m\u001b[0m\u001b[0;34m\u001b[0m\u001b[0m\n\u001b[0m\u001b[1;32m     89\u001b[0m \u001b[0;34m\u001b[0m\u001b[0m\n\u001b[1;32m     90\u001b[0m         \u001b[0mwrapped\u001b[0m\u001b[0;34m.\u001b[0m\u001b[0m__doc__\u001b[0m \u001b[0;34m=\u001b[0m \u001b[0mself\u001b[0m\u001b[0;34m.\u001b[0m\u001b[0m_update_doc\u001b[0m\u001b[0;34m(\u001b[0m\u001b[0mwrapped\u001b[0m\u001b[0;34m.\u001b[0m\u001b[0m__doc__\u001b[0m\u001b[0;34m)\u001b[0m\u001b[0;34m\u001b[0m\u001b[0;34m\u001b[0m\u001b[0m\n",
            "\u001b[0;32m/usr/local/lib/python3.7/dist-packages/sklearn/feature_extraction/text.py\u001b[0m in \u001b[0;36mget_feature_names\u001b[0;34m(self)\u001b[0m\n\u001b[1;32m   1427\u001b[0m             \u001b[0mA\u001b[0m \u001b[0mlist\u001b[0m \u001b[0mof\u001b[0m \u001b[0mfeature\u001b[0m \u001b[0mnames\u001b[0m\u001b[0;34m.\u001b[0m\u001b[0;34m\u001b[0m\u001b[0;34m\u001b[0m\u001b[0m\n\u001b[1;32m   1428\u001b[0m         \"\"\"\n\u001b[0;32m-> 1429\u001b[0;31m         \u001b[0mself\u001b[0m\u001b[0;34m.\u001b[0m\u001b[0m_check_vocabulary\u001b[0m\u001b[0;34m(\u001b[0m\u001b[0;34m)\u001b[0m\u001b[0;34m\u001b[0m\u001b[0;34m\u001b[0m\u001b[0m\n\u001b[0m\u001b[1;32m   1430\u001b[0m \u001b[0;34m\u001b[0m\u001b[0m\n\u001b[1;32m   1431\u001b[0m         \u001b[0;32mreturn\u001b[0m \u001b[0;34m[\u001b[0m\u001b[0mt\u001b[0m \u001b[0;32mfor\u001b[0m \u001b[0mt\u001b[0m\u001b[0;34m,\u001b[0m \u001b[0mi\u001b[0m \u001b[0;32min\u001b[0m \u001b[0msorted\u001b[0m\u001b[0;34m(\u001b[0m\u001b[0mself\u001b[0m\u001b[0;34m.\u001b[0m\u001b[0mvocabulary_\u001b[0m\u001b[0;34m.\u001b[0m\u001b[0mitems\u001b[0m\u001b[0;34m(\u001b[0m\u001b[0;34m)\u001b[0m\u001b[0;34m,\u001b[0m \u001b[0mkey\u001b[0m\u001b[0;34m=\u001b[0m\u001b[0mitemgetter\u001b[0m\u001b[0;34m(\u001b[0m\u001b[0;36m1\u001b[0m\u001b[0;34m)\u001b[0m\u001b[0;34m)\u001b[0m\u001b[0;34m]\u001b[0m\u001b[0;34m\u001b[0m\u001b[0;34m\u001b[0m\u001b[0m\n",
            "\u001b[0;32m/usr/local/lib/python3.7/dist-packages/sklearn/feature_extraction/text.py\u001b[0m in \u001b[0;36m_check_vocabulary\u001b[0;34m(self)\u001b[0m\n\u001b[1;32m    496\u001b[0m             \u001b[0mself\u001b[0m\u001b[0;34m.\u001b[0m\u001b[0m_validate_vocabulary\u001b[0m\u001b[0;34m(\u001b[0m\u001b[0;34m)\u001b[0m\u001b[0;34m\u001b[0m\u001b[0;34m\u001b[0m\u001b[0m\n\u001b[1;32m    497\u001b[0m             \u001b[0;32mif\u001b[0m \u001b[0;32mnot\u001b[0m \u001b[0mself\u001b[0m\u001b[0;34m.\u001b[0m\u001b[0mfixed_vocabulary_\u001b[0m\u001b[0;34m:\u001b[0m\u001b[0;34m\u001b[0m\u001b[0;34m\u001b[0m\u001b[0m\n\u001b[0;32m--> 498\u001b[0;31m                 \u001b[0;32mraise\u001b[0m \u001b[0mNotFittedError\u001b[0m\u001b[0;34m(\u001b[0m\u001b[0;34m\"Vocabulary not fitted or provided\"\u001b[0m\u001b[0;34m)\u001b[0m\u001b[0;34m\u001b[0m\u001b[0;34m\u001b[0m\u001b[0m\n\u001b[0m\u001b[1;32m    499\u001b[0m \u001b[0;34m\u001b[0m\u001b[0m\n\u001b[1;32m    500\u001b[0m         \u001b[0;32mif\u001b[0m \u001b[0mlen\u001b[0m\u001b[0;34m(\u001b[0m\u001b[0mself\u001b[0m\u001b[0;34m.\u001b[0m\u001b[0mvocabulary_\u001b[0m\u001b[0;34m)\u001b[0m \u001b[0;34m==\u001b[0m \u001b[0;36m0\u001b[0m\u001b[0;34m:\u001b[0m\u001b[0;34m\u001b[0m\u001b[0;34m\u001b[0m\u001b[0m\n",
            "\u001b[0;31mNotFittedError\u001b[0m: Vocabulary not fitted or provided"
          ]
        }
      ]
    },
    {
      "cell_type": "code",
      "source": [
        "for topic in range(df.shape[0]):\n",
        "    tmp = df.iloc[topic]\n",
        "    print(f'For topic {topic+1} the words with the highest value are:')\n",
        "    print(tmp.nlargest(10))\n",
        "    print('\\n')"
      ],
      "metadata": {
        "colab": {
          "base_uri": "https://localhost:8080/"
        },
        "id": "xLm-rmpbdi4a",
        "outputId": "997b1322-e5fb-471c-c85a-c0a999bc0965"
      },
      "execution_count": null,
      "outputs": [
        {
          "output_type": "stream",
          "name": "stdout",
          "text": [
            "For topic 1 the words with the highest value are:\n",
            "10    1\n",
            "11    1\n",
            "12    1\n",
            "13    1\n",
            "22    1\n",
            "30    1\n",
            "38    1\n",
            "46    1\n",
            "62    1\n",
            "70    1\n",
            "Name: 0, dtype: int64\n",
            "\n",
            "\n",
            "For topic 2 the words with the highest value are:\n",
            "10    1\n",
            "11    1\n",
            "12    1\n",
            "13    1\n",
            "17    1\n",
            "22    1\n",
            "25    1\n",
            "30    1\n",
            "33    1\n",
            "38    1\n",
            "Name: 1, dtype: int64\n",
            "\n",
            "\n",
            "For topic 3 the words with the highest value are:\n",
            "17    1\n",
            "25    1\n",
            "33    1\n",
            "41    1\n",
            "50    1\n",
            "51    1\n",
            "52    1\n",
            "53    1\n",
            "90    1\n",
            "91    1\n",
            "Name: 2, dtype: int64\n",
            "\n",
            "\n",
            "For topic 4 the words with the highest value are:\n",
            "10    1\n",
            "11    1\n",
            "12    1\n",
            "13    1\n",
            "50    1\n",
            "51    1\n",
            "52    1\n",
            "53    1\n",
            "0     0\n",
            "1     0\n",
            "Name: 3, dtype: int64\n",
            "\n",
            "\n",
            "For topic 5 the words with the highest value are:\n",
            "22    1\n",
            "30    1\n",
            "38    1\n",
            "46    1\n",
            "50    1\n",
            "51    1\n",
            "52    1\n",
            "53    1\n",
            "90    1\n",
            "91    1\n",
            "Name: 4, dtype: int64\n",
            "\n",
            "\n",
            "For topic 6 the words with the highest value are:\n",
            "17    1\n",
            "22    1\n",
            "25    1\n",
            "30    1\n",
            "33    1\n",
            "38    1\n",
            "41    1\n",
            "46    1\n",
            "57    1\n",
            "65    1\n",
            "Name: 5, dtype: int64\n",
            "\n",
            "\n",
            "For topic 7 the words with the highest value are:\n",
            "17    1\n",
            "22    1\n",
            "25    1\n",
            "30    1\n",
            "33    1\n",
            "38    1\n",
            "41    1\n",
            "46    1\n",
            "57    1\n",
            "65    1\n",
            "Name: 6, dtype: int64\n",
            "\n",
            "\n",
            "For topic 8 the words with the highest value are:\n",
            "10    1\n",
            "11    1\n",
            "12    1\n",
            "13    1\n",
            "17    1\n",
            "22    1\n",
            "25    1\n",
            "30    1\n",
            "33    1\n",
            "38    1\n",
            "Name: 7, dtype: int64\n",
            "\n",
            "\n",
            "For topic 9 the words with the highest value are:\n",
            "22    1\n",
            "30    1\n",
            "38    1\n",
            "46    1\n",
            "50    1\n",
            "51    1\n",
            "52    1\n",
            "53    1\n",
            "0     0\n",
            "1     0\n",
            "Name: 8, dtype: int64\n",
            "\n",
            "\n",
            "For topic 10 the words with the highest value are:\n",
            "10    1\n",
            "11    1\n",
            "12    1\n",
            "13    1\n",
            "17    1\n",
            "25    1\n",
            "33    1\n",
            "41    1\n",
            "50    1\n",
            "51    1\n",
            "Name: 9, dtype: int64\n",
            "\n",
            "\n",
            "For topic 11 the words with the highest value are:\n",
            "17    1\n",
            "22    1\n",
            "25    1\n",
            "30    1\n",
            "33    1\n",
            "38    1\n",
            "41    1\n",
            "46    1\n",
            "50    1\n",
            "51    1\n",
            "Name: 10, dtype: int64\n",
            "\n",
            "\n",
            "For topic 12 the words with the highest value are:\n",
            "10    1\n",
            "11    1\n",
            "12    1\n",
            "13    1\n",
            "57    1\n",
            "62    1\n",
            "65    1\n",
            "70    1\n",
            "73    1\n",
            "78    1\n",
            "Name: 11, dtype: int64\n",
            "\n",
            "\n",
            "For topic 13 the words with the highest value are:\n",
            "17    1\n",
            "25    1\n",
            "33    1\n",
            "41    1\n",
            "57    1\n",
            "62    1\n",
            "65    1\n",
            "70    1\n",
            "73    1\n",
            "78    1\n",
            "Name: 12, dtype: int64\n",
            "\n",
            "\n",
            "For topic 14 the words with the highest value are:\n",
            "17    1\n",
            "25    1\n",
            "33    1\n",
            "41    1\n",
            "57    1\n",
            "65    1\n",
            "73    1\n",
            "81    1\n",
            "0     0\n",
            "1     0\n",
            "Name: 13, dtype: int64\n",
            "\n",
            "\n",
            "For topic 15 the words with the highest value are:\n",
            "22    1\n",
            "30    1\n",
            "38    1\n",
            "46    1\n",
            "57    1\n",
            "62    1\n",
            "65    1\n",
            "70    1\n",
            "73    1\n",
            "78    1\n",
            "Name: 14, dtype: int64\n",
            "\n",
            "\n",
            "For topic 16 the words with the highest value are:\n",
            "10    1\n",
            "11    1\n",
            "12    1\n",
            "13    1\n",
            "17    1\n",
            "22    1\n",
            "25    1\n",
            "30    1\n",
            "33    1\n",
            "38    1\n",
            "Name: 15, dtype: int64\n",
            "\n",
            "\n",
            "For topic 17 the words with the highest value are:\n",
            "17    1\n",
            "22    1\n",
            "25    1\n",
            "30    1\n",
            "33    1\n",
            "38    1\n",
            "41    1\n",
            "46    1\n",
            "57    1\n",
            "65    1\n",
            "Name: 16, dtype: int64\n",
            "\n",
            "\n",
            "For topic 18 the words with the highest value are:\n",
            "10    1\n",
            "11    1\n",
            "12    1\n",
            "13    1\n",
            "22    1\n",
            "30    1\n",
            "38    1\n",
            "46    1\n",
            "90    1\n",
            "91    1\n",
            "Name: 17, dtype: int64\n",
            "\n",
            "\n",
            "For topic 19 the words with the highest value are:\n",
            "10    1\n",
            "11    1\n",
            "12    1\n",
            "13    1\n",
            "22    1\n",
            "30    1\n",
            "38    1\n",
            "46    1\n",
            "50    1\n",
            "51    1\n",
            "Name: 18, dtype: int64\n",
            "\n",
            "\n",
            "For topic 20 the words with the highest value are:\n",
            "10    1\n",
            "11    1\n",
            "12    1\n",
            "13    1\n",
            "50    1\n",
            "51    1\n",
            "52    1\n",
            "53    1\n",
            "90    1\n",
            "91    1\n",
            "Name: 19, dtype: int64\n",
            "\n",
            "\n",
            "For topic 21 the words with the highest value are:\n",
            "10    1\n",
            "11    1\n",
            "12    1\n",
            "13    1\n",
            "57    1\n",
            "62    1\n",
            "65    1\n",
            "70    1\n",
            "73    1\n",
            "78    1\n",
            "Name: 20, dtype: int64\n",
            "\n",
            "\n",
            "For topic 22 the words with the highest value are:\n",
            "17    1\n",
            "25    1\n",
            "33    1\n",
            "41    1\n",
            "50    1\n",
            "51    1\n",
            "52    1\n",
            "53    1\n",
            "57    1\n",
            "65    1\n",
            "Name: 21, dtype: int64\n",
            "\n",
            "\n",
            "For topic 23 the words with the highest value are:\n",
            "10    1\n",
            "11    1\n",
            "12    1\n",
            "13    1\n",
            "50    1\n",
            "51    1\n",
            "52    1\n",
            "53    1\n",
            "57    1\n",
            "62    1\n",
            "Name: 22, dtype: int64\n",
            "\n",
            "\n",
            "For topic 24 the words with the highest value are:\n",
            "17    1\n",
            "25    1\n",
            "33    1\n",
            "41    1\n",
            "50    1\n",
            "51    1\n",
            "52    1\n",
            "53    1\n",
            "0     0\n",
            "1     0\n",
            "Name: 23, dtype: int64\n",
            "\n",
            "\n",
            "For topic 25 the words with the highest value are:\n",
            "17    1\n",
            "25    1\n",
            "33    1\n",
            "41    1\n",
            "57    1\n",
            "62    1\n",
            "65    1\n",
            "70    1\n",
            "73    1\n",
            "78    1\n",
            "Name: 24, dtype: int64\n",
            "\n",
            "\n",
            "For topic 26 the words with the highest value are:\n",
            "17    1\n",
            "25    1\n",
            "33    1\n",
            "41    1\n",
            "90    1\n",
            "91    1\n",
            "92    1\n",
            "93    1\n",
            "0     0\n",
            "1     0\n",
            "Name: 25, dtype: int64\n",
            "\n",
            "\n",
            "For topic 27 the words with the highest value are:\n",
            "17    1\n",
            "22    1\n",
            "25    1\n",
            "30    1\n",
            "33    1\n",
            "38    1\n",
            "41    1\n",
            "46    1\n",
            "50    1\n",
            "51    1\n",
            "Name: 26, dtype: int64\n",
            "\n",
            "\n",
            "For topic 28 the words with the highest value are:\n",
            "10    1\n",
            "11    1\n",
            "12    1\n",
            "13    1\n",
            "17    1\n",
            "22    1\n",
            "25    1\n",
            "30    1\n",
            "33    1\n",
            "38    1\n",
            "Name: 27, dtype: int64\n",
            "\n",
            "\n",
            "For topic 29 the words with the highest value are:\n",
            "17    1\n",
            "25    1\n",
            "33    1\n",
            "41    1\n",
            "57    1\n",
            "65    1\n",
            "73    1\n",
            "81    1\n",
            "0     0\n",
            "1     0\n",
            "Name: 28, dtype: int64\n",
            "\n",
            "\n",
            "For topic 30 the words with the highest value are:\n",
            "10    1\n",
            "11    1\n",
            "12    1\n",
            "13    1\n",
            "17    1\n",
            "22    1\n",
            "25    1\n",
            "30    1\n",
            "33    1\n",
            "38    1\n",
            "Name: 29, dtype: int64\n",
            "\n",
            "\n",
            "For topic 31 the words with the highest value are:\n",
            "10    1\n",
            "11    1\n",
            "12    1\n",
            "13    1\n",
            "17    1\n",
            "22    1\n",
            "25    1\n",
            "30    1\n",
            "33    1\n",
            "38    1\n",
            "Name: 30, dtype: int64\n",
            "\n",
            "\n",
            "For topic 32 the words with the highest value are:\n",
            "17    1\n",
            "25    1\n",
            "33    1\n",
            "41    1\n",
            "50    1\n",
            "51    1\n",
            "52    1\n",
            "53    1\n",
            "0     0\n",
            "1     0\n",
            "Name: 31, dtype: int64\n",
            "\n",
            "\n",
            "For topic 33 the words with the highest value are:\n",
            "10    1\n",
            "11    1\n",
            "12    1\n",
            "13    1\n",
            "17    1\n",
            "22    1\n",
            "25    1\n",
            "30    1\n",
            "33    1\n",
            "38    1\n",
            "Name: 32, dtype: int64\n",
            "\n",
            "\n",
            "For topic 34 the words with the highest value are:\n",
            "10    1\n",
            "11    1\n",
            "12    1\n",
            "13    1\n",
            "57    1\n",
            "65    1\n",
            "73    1\n",
            "81    1\n",
            "0     0\n",
            "1     0\n",
            "Name: 33, dtype: int64\n",
            "\n",
            "\n",
            "For topic 35 the words with the highest value are:\n",
            "17    1\n",
            "22    1\n",
            "25    1\n",
            "30    1\n",
            "33    1\n",
            "38    1\n",
            "41    1\n",
            "46    1\n",
            "90    1\n",
            "91    1\n",
            "Name: 34, dtype: int64\n",
            "\n",
            "\n",
            "For topic 36 the words with the highest value are:\n",
            "22    1\n",
            "30    1\n",
            "38    1\n",
            "46    1\n",
            "57    1\n",
            "65    1\n",
            "73    1\n",
            "81    1\n",
            "0     0\n",
            "1     0\n",
            "Name: 35, dtype: int64\n",
            "\n",
            "\n",
            "For topic 37 the words with the highest value are:\n",
            "10    1\n",
            "11    1\n",
            "12    1\n",
            "13    1\n",
            "17    1\n",
            "22    1\n",
            "25    1\n",
            "30    1\n",
            "33    1\n",
            "38    1\n",
            "Name: 36, dtype: int64\n",
            "\n",
            "\n",
            "For topic 38 the words with the highest value are:\n",
            "10    1\n",
            "11    1\n",
            "12    1\n",
            "13    1\n",
            "17    1\n",
            "25    1\n",
            "33    1\n",
            "41    1\n",
            "0     0\n",
            "1     0\n",
            "Name: 37, dtype: int64\n",
            "\n",
            "\n",
            "For topic 39 the words with the highest value are:\n",
            "50    1\n",
            "51    1\n",
            "52    1\n",
            "53    1\n",
            "57    1\n",
            "65    1\n",
            "73    1\n",
            "81    1\n",
            "0     0\n",
            "1     0\n",
            "Name: 38, dtype: int64\n",
            "\n",
            "\n",
            "For topic 40 the words with the highest value are:\n",
            "17    1\n",
            "25    1\n",
            "33    1\n",
            "41    1\n",
            "50    1\n",
            "51    1\n",
            "52    1\n",
            "53    1\n",
            "62    1\n",
            "70    1\n",
            "Name: 39, dtype: int64\n",
            "\n",
            "\n",
            "For topic 41 the words with the highest value are:\n",
            "10    1\n",
            "11    1\n",
            "12    1\n",
            "13    1\n",
            "22    1\n",
            "30    1\n",
            "38    1\n",
            "46    1\n",
            "57    1\n",
            "65    1\n",
            "Name: 40, dtype: int64\n",
            "\n",
            "\n",
            "For topic 42 the words with the highest value are:\n",
            "10    1\n",
            "11    1\n",
            "12    1\n",
            "13    1\n",
            "17    1\n",
            "25    1\n",
            "33    1\n",
            "41    1\n",
            "50    1\n",
            "51    1\n",
            "Name: 41, dtype: int64\n",
            "\n",
            "\n",
            "For topic 43 the words with the highest value are:\n",
            "10    1\n",
            "11    1\n",
            "12    1\n",
            "13    1\n",
            "22    1\n",
            "30    1\n",
            "38    1\n",
            "46    1\n",
            "50    1\n",
            "51    1\n",
            "Name: 42, dtype: int64\n",
            "\n",
            "\n",
            "For topic 44 the words with the highest value are:\n",
            "10    1\n",
            "11    1\n",
            "12    1\n",
            "13    1\n",
            "17    1\n",
            "22    1\n",
            "25    1\n",
            "30    1\n",
            "33    1\n",
            "38    1\n",
            "Name: 43, dtype: int64\n",
            "\n",
            "\n",
            "For topic 45 the words with the highest value are:\n",
            "50    1\n",
            "51    1\n",
            "52    1\n",
            "53    1\n",
            "90    1\n",
            "91    1\n",
            "92    1\n",
            "93    1\n",
            "0     0\n",
            "1     0\n",
            "Name: 44, dtype: int64\n",
            "\n",
            "\n",
            "For topic 46 the words with the highest value are:\n",
            "22    1\n",
            "30    1\n",
            "38    1\n",
            "46    1\n",
            "50    1\n",
            "51    1\n",
            "52    1\n",
            "53    1\n",
            "90    1\n",
            "91    1\n",
            "Name: 45, dtype: int64\n",
            "\n",
            "\n",
            "For topic 47 the words with the highest value are:\n",
            "10    1\n",
            "11    1\n",
            "12    1\n",
            "13    1\n",
            "50    1\n",
            "51    1\n",
            "52    1\n",
            "53    1\n",
            "0     0\n",
            "1     0\n",
            "Name: 46, dtype: int64\n",
            "\n",
            "\n",
            "For topic 48 the words with the highest value are:\n",
            "17    1\n",
            "25    1\n",
            "33    1\n",
            "41    1\n",
            "62    1\n",
            "70    1\n",
            "78    1\n",
            "86    1\n",
            "90    1\n",
            "91    1\n",
            "Name: 47, dtype: int64\n",
            "\n",
            "\n",
            "For topic 49 the words with the highest value are:\n",
            "10    1\n",
            "11    1\n",
            "12    1\n",
            "13    1\n",
            "22    1\n",
            "30    1\n",
            "38    1\n",
            "46    1\n",
            "57    1\n",
            "62    1\n",
            "Name: 48, dtype: int64\n",
            "\n",
            "\n",
            "For topic 50 the words with the highest value are:\n",
            "17    1\n",
            "22    1\n",
            "25    1\n",
            "30    1\n",
            "33    1\n",
            "38    1\n",
            "41    1\n",
            "46    1\n",
            "50    1\n",
            "51    1\n",
            "Name: 49, dtype: int64\n",
            "\n",
            "\n",
            "For topic 51 the words with the highest value are:\n",
            "10    1\n",
            "11    1\n",
            "12    1\n",
            "13    1\n",
            "50    1\n",
            "51    1\n",
            "52    1\n",
            "53    1\n",
            "0     0\n",
            "1     0\n",
            "Name: 50, dtype: int64\n",
            "\n",
            "\n",
            "For topic 52 the words with the highest value are:\n",
            "10    1\n",
            "11    1\n",
            "12    1\n",
            "13    1\n",
            "17    1\n",
            "22    1\n",
            "25    1\n",
            "30    1\n",
            "33    1\n",
            "38    1\n",
            "Name: 51, dtype: int64\n",
            "\n",
            "\n",
            "For topic 53 the words with the highest value are:\n",
            "22    1\n",
            "30    1\n",
            "38    1\n",
            "46    1\n",
            "62    1\n",
            "70    1\n",
            "78    1\n",
            "86    1\n",
            "0     0\n",
            "1     0\n",
            "Name: 52, dtype: int64\n",
            "\n",
            "\n",
            "For topic 54 the words with the highest value are:\n",
            "10    1\n",
            "11    1\n",
            "12    1\n",
            "13    1\n",
            "50    1\n",
            "51    1\n",
            "52    1\n",
            "53    1\n",
            "57    1\n",
            "65    1\n",
            "Name: 53, dtype: int64\n",
            "\n",
            "\n",
            "For topic 55 the words with the highest value are:\n",
            "17    1\n",
            "25    1\n",
            "33    1\n",
            "41    1\n",
            "50    1\n",
            "51    1\n",
            "52    1\n",
            "53    1\n",
            "62    1\n",
            "70    1\n",
            "Name: 54, dtype: int64\n",
            "\n",
            "\n",
            "For topic 56 the words with the highest value are:\n",
            "10    1\n",
            "11    1\n",
            "12    1\n",
            "13    1\n",
            "22    1\n",
            "30    1\n",
            "38    1\n",
            "46    1\n",
            "62    1\n",
            "70    1\n",
            "Name: 55, dtype: int64\n",
            "\n",
            "\n",
            "For topic 57 the words with the highest value are:\n",
            "62    1\n",
            "70    1\n",
            "78    1\n",
            "86    1\n",
            "90    1\n",
            "91    1\n",
            "92    1\n",
            "93    1\n",
            "0     0\n",
            "1     0\n",
            "Name: 56, dtype: int64\n",
            "\n",
            "\n",
            "For topic 58 the words with the highest value are:\n",
            "10    1\n",
            "11    1\n",
            "12    1\n",
            "13    1\n",
            "17    1\n",
            "25    1\n",
            "33    1\n",
            "41    1\n",
            "0     0\n",
            "1     0\n",
            "Name: 57, dtype: int64\n",
            "\n",
            "\n",
            "For topic 59 the words with the highest value are:\n",
            "17    1\n",
            "22    1\n",
            "25    1\n",
            "30    1\n",
            "33    1\n",
            "38    1\n",
            "41    1\n",
            "46    1\n",
            "50    1\n",
            "51    1\n",
            "Name: 58, dtype: int64\n",
            "\n",
            "\n",
            "For topic 60 the words with the highest value are:\n",
            "10    1\n",
            "11    1\n",
            "12    1\n",
            "13    1\n",
            "17    1\n",
            "22    1\n",
            "25    1\n",
            "30    1\n",
            "33    1\n",
            "38    1\n",
            "Name: 59, dtype: int64\n",
            "\n",
            "\n",
            "For topic 61 the words with the highest value are:\n",
            "22    1\n",
            "30    1\n",
            "38    1\n",
            "46    1\n",
            "50    1\n",
            "51    1\n",
            "52    1\n",
            "53    1\n",
            "57    1\n",
            "62    1\n",
            "Name: 60, dtype: int64\n",
            "\n",
            "\n",
            "For topic 62 the words with the highest value are:\n",
            "22    1\n",
            "30    1\n",
            "38    1\n",
            "46    1\n",
            "57    1\n",
            "65    1\n",
            "73    1\n",
            "81    1\n",
            "0     0\n",
            "1     0\n",
            "Name: 61, dtype: int64\n",
            "\n",
            "\n",
            "For topic 63 the words with the highest value are:\n",
            "22    1\n",
            "30    1\n",
            "38    1\n",
            "46    1\n",
            "57    1\n",
            "65    1\n",
            "73    1\n",
            "81    1\n",
            "0     0\n",
            "1     0\n",
            "Name: 62, dtype: int64\n",
            "\n",
            "\n",
            "For topic 64 the words with the highest value are:\n",
            "22    1\n",
            "30    1\n",
            "38    1\n",
            "46    1\n",
            "62    1\n",
            "70    1\n",
            "78    1\n",
            "86    1\n",
            "0     0\n",
            "1     0\n",
            "Name: 63, dtype: int64\n",
            "\n",
            "\n",
            "For topic 65 the words with the highest value are:\n",
            "10    1\n",
            "11    1\n",
            "12    1\n",
            "13    1\n",
            "17    1\n",
            "22    1\n",
            "25    1\n",
            "30    1\n",
            "33    1\n",
            "38    1\n",
            "Name: 64, dtype: int64\n",
            "\n",
            "\n",
            "For topic 66 the words with the highest value are:\n",
            "10    1\n",
            "11    1\n",
            "12    1\n",
            "13    1\n",
            "62    1\n",
            "70    1\n",
            "78    1\n",
            "86    1\n",
            "90    1\n",
            "91    1\n",
            "Name: 65, dtype: int64\n",
            "\n",
            "\n",
            "For topic 67 the words with the highest value are:\n",
            "10    1\n",
            "11    1\n",
            "12    1\n",
            "13    1\n",
            "90    1\n",
            "91    1\n",
            "92    1\n",
            "93    1\n",
            "0     0\n",
            "1     0\n",
            "Name: 66, dtype: int64\n",
            "\n",
            "\n",
            "For topic 68 the words with the highest value are:\n",
            "10    1\n",
            "11    1\n",
            "12    1\n",
            "13    1\n",
            "17    1\n",
            "25    1\n",
            "33    1\n",
            "41    1\n",
            "90    1\n",
            "91    1\n",
            "Name: 67, dtype: int64\n",
            "\n",
            "\n",
            "For topic 69 the words with the highest value are:\n",
            "22    1\n",
            "30    1\n",
            "38    1\n",
            "46    1\n",
            "62    1\n",
            "70    1\n",
            "78    1\n",
            "86    1\n",
            "0     0\n",
            "1     0\n",
            "Name: 68, dtype: int64\n",
            "\n",
            "\n",
            "For topic 70 the words with the highest value are:\n",
            "57    1\n",
            "62    1\n",
            "65    1\n",
            "70    1\n",
            "73    1\n",
            "78    1\n",
            "81    1\n",
            "86    1\n",
            "0     0\n",
            "1     0\n",
            "Name: 69, dtype: int64\n",
            "\n",
            "\n",
            "For topic 71 the words with the highest value are:\n",
            "17    1\n",
            "22    1\n",
            "25    1\n",
            "30    1\n",
            "33    1\n",
            "38    1\n",
            "41    1\n",
            "46    1\n",
            "57    1\n",
            "65    1\n",
            "Name: 70, dtype: int64\n",
            "\n",
            "\n",
            "For topic 72 the words with the highest value are:\n",
            "17    1\n",
            "22    1\n",
            "25    1\n",
            "30    1\n",
            "33    1\n",
            "38    1\n",
            "41    1\n",
            "46    1\n",
            "50    1\n",
            "51    1\n",
            "Name: 71, dtype: int64\n",
            "\n",
            "\n",
            "For topic 73 the words with the highest value are:\n",
            "10    1\n",
            "11    1\n",
            "12    1\n",
            "13    1\n",
            "17    1\n",
            "25    1\n",
            "33    1\n",
            "41    1\n",
            "62    1\n",
            "70    1\n",
            "Name: 72, dtype: int64\n",
            "\n",
            "\n",
            "For topic 74 the words with the highest value are:\n",
            "22    1\n",
            "30    1\n",
            "38    1\n",
            "46    1\n",
            "50    1\n",
            "51    1\n",
            "52    1\n",
            "53    1\n",
            "0     0\n",
            "1     0\n",
            "Name: 73, dtype: int64\n",
            "\n",
            "\n",
            "For topic 75 the words with the highest value are:\n",
            "17    1\n",
            "25    1\n",
            "33    1\n",
            "41    1\n",
            "62    1\n",
            "70    1\n",
            "78    1\n",
            "86    1\n",
            "90    1\n",
            "91    1\n",
            "Name: 74, dtype: int64\n",
            "\n",
            "\n",
            "For topic 76 the words with the highest value are:\n",
            "10    1\n",
            "11    1\n",
            "12    1\n",
            "13    1\n",
            "50    1\n",
            "51    1\n",
            "52    1\n",
            "53    1\n",
            "90    1\n",
            "91    1\n",
            "Name: 75, dtype: int64\n",
            "\n",
            "\n",
            "For topic 77 the words with the highest value are:\n",
            "50    1\n",
            "51    1\n",
            "52    1\n",
            "53    1\n",
            "57    1\n",
            "62    1\n",
            "65    1\n",
            "70    1\n",
            "73    1\n",
            "78    1\n",
            "Name: 76, dtype: int64\n",
            "\n",
            "\n",
            "For topic 78 the words with the highest value are:\n",
            "17    1\n",
            "25    1\n",
            "33    1\n",
            "41    1\n",
            "50    1\n",
            "51    1\n",
            "52    1\n",
            "53    1\n",
            "57    1\n",
            "65    1\n",
            "Name: 77, dtype: int64\n",
            "\n",
            "\n",
            "For topic 79 the words with the highest value are:\n",
            "17    1\n",
            "22    1\n",
            "25    1\n",
            "30    1\n",
            "33    1\n",
            "38    1\n",
            "41    1\n",
            "46    1\n",
            "50    1\n",
            "51    1\n",
            "Name: 78, dtype: int64\n",
            "\n",
            "\n",
            "For topic 80 the words with the highest value are:\n",
            "10    1\n",
            "11    1\n",
            "12    1\n",
            "13    1\n",
            "22    1\n",
            "30    1\n",
            "38    1\n",
            "46    1\n",
            "57    1\n",
            "65    1\n",
            "Name: 79, dtype: int64\n",
            "\n",
            "\n",
            "For topic 81 the words with the highest value are:\n",
            "10    1\n",
            "11    1\n",
            "12    1\n",
            "13    1\n",
            "50    1\n",
            "51    1\n",
            "52    1\n",
            "53    1\n",
            "57    1\n",
            "65    1\n",
            "Name: 80, dtype: int64\n",
            "\n",
            "\n",
            "For topic 82 the words with the highest value are:\n",
            "10    1\n",
            "11    1\n",
            "12    1\n",
            "13    1\n",
            "22    1\n",
            "30    1\n",
            "38    1\n",
            "46    1\n",
            "57    1\n",
            "65    1\n",
            "Name: 81, dtype: int64\n",
            "\n",
            "\n",
            "For topic 83 the words with the highest value are:\n",
            "17    1\n",
            "25    1\n",
            "33    1\n",
            "41    1\n",
            "50    1\n",
            "51    1\n",
            "52    1\n",
            "53    1\n",
            "57    1\n",
            "65    1\n",
            "Name: 82, dtype: int64\n",
            "\n",
            "\n",
            "For topic 84 the words with the highest value are:\n",
            "22    1\n",
            "30    1\n",
            "38    1\n",
            "46    1\n",
            "57    1\n",
            "62    1\n",
            "65    1\n",
            "70    1\n",
            "73    1\n",
            "78    1\n",
            "Name: 83, dtype: int64\n",
            "\n",
            "\n",
            "For topic 85 the words with the highest value are:\n",
            "50    1\n",
            "51    1\n",
            "52    1\n",
            "53    1\n",
            "57    1\n",
            "62    1\n",
            "65    1\n",
            "70    1\n",
            "73    1\n",
            "78    1\n",
            "Name: 84, dtype: int64\n",
            "\n",
            "\n",
            "For topic 86 the words with the highest value are:\n",
            "10    1\n",
            "11    1\n",
            "12    1\n",
            "13    1\n",
            "17    1\n",
            "22    1\n",
            "25    1\n",
            "30    1\n",
            "33    1\n",
            "38    1\n",
            "Name: 85, dtype: int64\n",
            "\n",
            "\n",
            "For topic 87 the words with the highest value are:\n",
            "22    1\n",
            "30    1\n",
            "38    1\n",
            "46    1\n",
            "50    1\n",
            "51    1\n",
            "52    1\n",
            "53    1\n",
            "57    1\n",
            "62    1\n",
            "Name: 86, dtype: int64\n",
            "\n",
            "\n",
            "For topic 88 the words with the highest value are:\n",
            "17    1\n",
            "25    1\n",
            "33    1\n",
            "41    1\n",
            "62    1\n",
            "70    1\n",
            "78    1\n",
            "86    1\n",
            "0     0\n",
            "1     0\n",
            "Name: 87, dtype: int64\n",
            "\n",
            "\n",
            "For topic 89 the words with the highest value are:\n",
            "22    1\n",
            "30    1\n",
            "38    1\n",
            "46    1\n",
            "90    1\n",
            "91    1\n",
            "92    1\n",
            "93    1\n",
            "0     0\n",
            "1     0\n",
            "Name: 88, dtype: int64\n",
            "\n",
            "\n",
            "For topic 90 the words with the highest value are:\n",
            "10    1\n",
            "11    1\n",
            "12    1\n",
            "13    1\n",
            "17    1\n",
            "22    1\n",
            "25    1\n",
            "30    1\n",
            "33    1\n",
            "38    1\n",
            "Name: 89, dtype: int64\n",
            "\n",
            "\n",
            "For topic 91 the words with the highest value are:\n",
            "10    1\n",
            "11    1\n",
            "12    1\n",
            "13    1\n",
            "50    1\n",
            "51    1\n",
            "52    1\n",
            "53    1\n",
            "62    1\n",
            "70    1\n",
            "Name: 90, dtype: int64\n",
            "\n",
            "\n",
            "For topic 92 the words with the highest value are:\n",
            "22    1\n",
            "30    1\n",
            "38    1\n",
            "46    1\n",
            "57    1\n",
            "62    1\n",
            "65    1\n",
            "70    1\n",
            "73    1\n",
            "78    1\n",
            "Name: 91, dtype: int64\n",
            "\n",
            "\n",
            "For topic 93 the words with the highest value are:\n",
            "10    1\n",
            "11    1\n",
            "12    1\n",
            "13    1\n",
            "22    1\n",
            "30    1\n",
            "38    1\n",
            "46    1\n",
            "62    1\n",
            "70    1\n",
            "Name: 92, dtype: int64\n",
            "\n",
            "\n",
            "For topic 94 the words with the highest value are:\n",
            "50    1\n",
            "51    1\n",
            "52    1\n",
            "53    1\n",
            "90    1\n",
            "91    1\n",
            "92    1\n",
            "93    1\n",
            "0     0\n",
            "1     0\n",
            "Name: 93, dtype: int64\n",
            "\n",
            "\n",
            "For topic 95 the words with the highest value are:\n",
            "10    1\n",
            "11    1\n",
            "12    1\n",
            "13    1\n",
            "22    1\n",
            "30    1\n",
            "38    1\n",
            "46    1\n",
            "57    1\n",
            "65    1\n",
            "Name: 94, dtype: int64\n",
            "\n",
            "\n",
            "For topic 96 the words with the highest value are:\n",
            "10    1\n",
            "11    1\n",
            "12    1\n",
            "13    1\n",
            "17    1\n",
            "22    1\n",
            "25    1\n",
            "30    1\n",
            "33    1\n",
            "38    1\n",
            "Name: 95, dtype: int64\n",
            "\n",
            "\n",
            "For topic 97 the words with the highest value are:\n",
            "10    1\n",
            "11    1\n",
            "12    1\n",
            "13    1\n",
            "90    1\n",
            "91    1\n",
            "92    1\n",
            "93    1\n",
            "0     0\n",
            "1     0\n",
            "Name: 96, dtype: int64\n",
            "\n",
            "\n",
            "For topic 98 the words with the highest value are:\n",
            "17    1\n",
            "25    1\n",
            "33    1\n",
            "41    1\n",
            "57    1\n",
            "62    1\n",
            "65    1\n",
            "70    1\n",
            "73    1\n",
            "78    1\n",
            "Name: 97, dtype: int64\n",
            "\n",
            "\n",
            "For topic 99 the words with the highest value are:\n",
            "17    1\n",
            "25    1\n",
            "33    1\n",
            "41    1\n",
            "50    1\n",
            "51    1\n",
            "52    1\n",
            "53    1\n",
            "57    1\n",
            "65    1\n",
            "Name: 98, dtype: int64\n",
            "\n",
            "\n",
            "For topic 100 the words with the highest value are:\n",
            "10    1\n",
            "11    1\n",
            "12    1\n",
            "13    1\n",
            "17    1\n",
            "25    1\n",
            "33    1\n",
            "41    1\n",
            "57    1\n",
            "65    1\n",
            "Name: 99, dtype: int64\n",
            "\n",
            "\n"
          ]
        }
      ]
    },
    {
      "cell_type": "code",
      "source": [
        "pd.DataFrame(nmf_features).loc[44]"
      ],
      "metadata": {
        "colab": {
          "base_uri": "https://localhost:8080/"
        },
        "id": "Y-BCIxnKxp1q",
        "outputId": "02fe8d72-2ea9-45c4-b4e2-27e1f1f90e4f"
      },
      "execution_count": null,
      "outputs": [
        {
          "output_type": "execute_result",
          "data": {
            "text/plain": [
              "0    0.000000\n",
              "1    0.681490\n",
              "2    0.000000\n",
              "3    0.000000\n",
              "4    0.000000\n",
              "5    0.000000\n",
              "6    0.451464\n",
              "7    0.000000\n",
              "8    0.000000\n",
              "9    0.000000\n",
              "Name: 44, dtype: float64"
            ]
          },
          "metadata": {},
          "execution_count": 127
        }
      ]
    },
    {
      "cell_type": "code",
      "source": [
        "pd.DataFrame(nmf_features).loc[55].idxmax()"
      ],
      "metadata": {
        "colab": {
          "base_uri": "https://localhost:8080/"
        },
        "id": "mSbD3nwtyKv4",
        "outputId": "54f57702-f277-42fa-8bee-54d1439d4805"
      },
      "execution_count": null,
      "outputs": [
        {
          "output_type": "execute_result",
          "data": {
            "text/plain": [
              "3"
            ]
          },
          "metadata": {},
          "execution_count": 128
        }
      ]
    },
    {
      "cell_type": "code",
      "source": [
        "  some_digit = np.array(nmf_features2.iloc[55]).reshape(3,18)\n",
        " \n",
        "  plt.imshow(some_digit , cmap=\"binary\")\n",
        "  plt.axis(\"off\")\n",
        "  plt.show()"
      ],
      "metadata": {
        "colab": {
          "base_uri": "https://localhost:8080/",
          "height": 235
        },
        "id": "RJVyYUpOfKGW",
        "outputId": "bb59c8f0-4abc-4a56-dce0-99b4d80962a3"
      },
      "execution_count": null,
      "outputs": [
        {
          "output_type": "error",
          "ename": "ValueError",
          "evalue": "ignored",
          "traceback": [
            "\u001b[0;31m---------------------------------------------------------------------------\u001b[0m",
            "\u001b[0;31mValueError\u001b[0m                                Traceback (most recent call last)",
            "\u001b[0;32m<ipython-input-135-bcd11389a2f2>\u001b[0m in \u001b[0;36m<module>\u001b[0;34m\u001b[0m\n\u001b[0;32m----> 1\u001b[0;31m \u001b[0msome_digit\u001b[0m \u001b[0;34m=\u001b[0m \u001b[0mnp\u001b[0m\u001b[0;34m.\u001b[0m\u001b[0marray\u001b[0m\u001b[0;34m(\u001b[0m\u001b[0mnmf_features2\u001b[0m\u001b[0;34m.\u001b[0m\u001b[0miloc\u001b[0m\u001b[0;34m[\u001b[0m\u001b[0;36m55\u001b[0m\u001b[0;34m]\u001b[0m\u001b[0;34m)\u001b[0m\u001b[0;34m.\u001b[0m\u001b[0mreshape\u001b[0m\u001b[0;34m(\u001b[0m\u001b[0;36m3\u001b[0m\u001b[0;34m,\u001b[0m\u001b[0;36m18\u001b[0m\u001b[0;34m)\u001b[0m\u001b[0;34m\u001b[0m\u001b[0;34m\u001b[0m\u001b[0m\n\u001b[0m\u001b[1;32m      2\u001b[0m \u001b[0;34m\u001b[0m\u001b[0m\n\u001b[1;32m      3\u001b[0m \u001b[0mplt\u001b[0m\u001b[0;34m.\u001b[0m\u001b[0mimshow\u001b[0m\u001b[0;34m(\u001b[0m\u001b[0msome_digit\u001b[0m \u001b[0;34m,\u001b[0m \u001b[0mcmap\u001b[0m\u001b[0;34m=\u001b[0m\u001b[0;34m\"binary\"\u001b[0m\u001b[0;34m)\u001b[0m\u001b[0;34m\u001b[0m\u001b[0;34m\u001b[0m\u001b[0m\n\u001b[1;32m      4\u001b[0m \u001b[0mplt\u001b[0m\u001b[0;34m.\u001b[0m\u001b[0maxis\u001b[0m\u001b[0;34m(\u001b[0m\u001b[0;34m\"off\"\u001b[0m\u001b[0;34m)\u001b[0m\u001b[0;34m\u001b[0m\u001b[0;34m\u001b[0m\u001b[0m\n\u001b[1;32m      5\u001b[0m \u001b[0mplt\u001b[0m\u001b[0;34m.\u001b[0m\u001b[0mshow\u001b[0m\u001b[0;34m(\u001b[0m\u001b[0;34m)\u001b[0m\u001b[0;34m\u001b[0m\u001b[0;34m\u001b[0m\u001b[0m\n",
            "\u001b[0;31mValueError\u001b[0m: cannot reshape array of size 10 into shape (3,18)"
          ]
        }
      ]
    },
    {
      "cell_type": "code",
      "source": [
        "pd.DataFrame(nmf_features).idxmax(axis=1).value_counts()"
      ],
      "metadata": {
        "colab": {
          "base_uri": "https://localhost:8080/"
        },
        "id": "TgZ2QBTNyTOQ",
        "outputId": "08517136-8b0b-43c6-ac76-cf2f5fb179a2"
      },
      "execution_count": null,
      "outputs": [
        {
          "output_type": "execute_result",
          "data": {
            "text/plain": [
              "1    42\n",
              "3    26\n",
              "2    19\n",
              "5     9\n",
              "4     3\n",
              "0     1\n",
              "dtype: int64"
            ]
          },
          "metadata": {},
          "execution_count": 136
        }
      ]
    },
    {
      "cell_type": "code",
      "source": [],
      "metadata": {
        "id": "2D7Jp6pWzAdr"
      },
      "execution_count": null,
      "outputs": []
    }
  ]
}